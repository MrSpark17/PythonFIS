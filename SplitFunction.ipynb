{
 "cells": [
  {
   "cell_type": "code",
   "execution_count": 2,
   "metadata": {},
   "outputs": [
    {
     "name": "stdout",
     "output_type": "stream",
     "text": [
      "<class 'list'>\n",
      "5\n",
      "SlicedOutput ::  [1, True, 'Jerry']\n",
      "1\n",
      "Yess\n",
      "True\n",
      "9.404\n",
      "Jerry\n",
      "<class 'list'>\n",
      "['Aravidan', 'G', 'Global', 'Academy', 'of', 'technology']\n"
     ]
    }
   ],
   "source": [
    "list1 = [1, \"Yess\", True, 9.404]\n",
    "print(type(list1))\n",
    "list1.append(\"Jerry\")\n",
    "\n",
    "\n",
    "print(len(list1))\n",
    "print(\"SlicedOutput :: \", list1[0:6:2])\n",
    "\n",
    "for x in list1:\n",
    "    print(x)\n",
    "\n",
    "a =\"Aravidan G Global Academy of technology\"\n",
    "b=a.split()\n",
    "\n",
    "print(type(b))\n",
    "print(b)"
   ]
  }
 ],
 "metadata": {
  "kernelspec": {
   "display_name": "Python 3.10.6 64-bit",
   "language": "python",
   "name": "python3"
  },
  "language_info": {
   "codemirror_mode": {
    "name": "ipython",
    "version": 3
   },
   "file_extension": ".py",
   "mimetype": "text/x-python",
   "name": "python",
   "nbconvert_exporter": "python",
   "pygments_lexer": "ipython3",
   "version": "3.10.6"
  },
  "orig_nbformat": 4,
  "vscode": {
   "interpreter": {
    "hash": "3196968d684371006099b3d55edeef8ed90365227a30deaef86e5d4aa8519be0"
   }
  }
 },
 "nbformat": 4,
 "nbformat_minor": 2
}
