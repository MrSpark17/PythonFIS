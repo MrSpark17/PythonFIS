{
 "cells": [
  {
   "cell_type": "code",
   "execution_count": 3,
   "metadata": {},
   "outputs": [
    {
     "name": "stdout",
     "output_type": "stream",
     "text": [
      "[1, 1, 2, 4, 3, 9, 4, 16, 5, 25]\n"
     ]
    }
   ],
   "source": [
    "output=list()\n",
    "for i in range(1,6):\n",
    "    output.append(i)\n",
    "    output.append(i**2)\n",
    "\n",
    "print(output)"
   ]
  },
  {
   "cell_type": "code",
   "execution_count": 4,
   "metadata": {},
   "outputs": [
    {
     "name": "stdout",
     "output_type": "stream",
     "text": [
      "o\n",
      "e\n",
      "p\n",
      "r\n",
      "m\n"
     ]
    }
   ],
   "source": [
    "list1=[\"Tom\",\"Jerry\",\"Spike\", \"Aravindan\", \"LmAo\"]\n",
    "\n",
    "def secondLetter(list):\n",
    "    for string in list:\n",
    "        if len(string) > 1:\n",
    "            print(string[1])\n",
    "\n",
    "secondLetter(list1)"
   ]
  },
  {
   "cell_type": "code",
   "execution_count": 6,
   "metadata": {},
   "outputs": [
    {
     "name": "stdout",
     "output_type": "stream",
     "text": [
      "<class 'tuple'>\n",
      "<class 'tuple'>\n",
      "(4, 3, 2, 1)\n",
      "(1, 2, 3, 4, 4, 43, 42)\n",
      "<class 'tuple'>\n",
      "(4, 43, 42, 4, 43, 42, 4, 43, 42, 4, 43, 42)\n",
      "0\n"
     ]
    }
   ],
   "source": [
    "t=(10,)\n",
    "print(type(t))\n",
    "l=[1,2,3,4]\n",
    "t1=tuple(l)\n",
    "\n",
    "print(type(t1))\n",
    "print(t1[::-1])\n",
    "\n",
    "t2=(4,43,42)\n",
    "t1=t1+t2\n",
    "print(t1)\n",
    "print(type(t1))\n",
    "\n",
    "t5=t2*4\n",
    "print(t5)\n",
    "print(t5.count(5))"
   ]
  },
  {
   "cell_type": "code",
   "execution_count": 9,
   "metadata": {},
   "outputs": [
    {
     "name": "stdout",
     "output_type": "stream",
     "text": [
      "<class 'tuple'>\n",
      "(10, 20, 30, 40)\n",
      "[20, 30]\n",
      "<class 'int'>\n",
      "<generator object <genexpr> at 0x000002C73A009700>\n"
     ]
    }
   ],
   "source": [
    "a=10\n",
    "b=20\n",
    "c=30\n",
    "d=40\n",
    "\n",
    "#Packing\n",
    "t1=a,b,c,d\n",
    "print(type(t1))\n",
    "print(t1)\n",
    "\n",
    "#Unpacking\n",
    "q,*r,s=t1\n",
    "print(r)\n",
    "print(type(s))\n",
    "\n",
    "tup=(k*2 for k in range(200,220))\n",
    "print(tup)"
   ]
  },
  {
   "cell_type": "code",
   "execution_count": 14,
   "metadata": {},
   "outputs": [
    {
     "name": "stdout",
     "output_type": "stream",
     "text": [
      "{'TOMMY', False, True, 3, 4, 5, 6, 'tommy'}\n",
      "{'TOMMY', False, True, 3, 4, 5, 6, 'Hello', '2', '3', 'tommy'}\n"
     ]
    }
   ],
   "source": [
    "set1 = {\"tommy\",\"TOMMY\",False,3,4,5,6,True,1}\n",
    "print(set1)\n",
    "\n",
    "set1.add(\"Hello\")\n",
    "set1.update(\"2\",\"3\")\n",
    "print(set1)"
   ]
  },
  {
   "cell_type": "code",
   "execution_count": 19,
   "metadata": {},
   "outputs": [
    {
     "name": "stdout",
     "output_type": "stream",
     "text": [
      "{False, True, 3, 4, 5, 6, 'tommy'}\n",
      "{False, True, 3, 4, 5, 6, 'tommy'}\n",
      "{False, True, 3, 4, 5, 6}\n"
     ]
    }
   ],
   "source": [
    "s = {\"tommy\",\"TOMMY\",False,3,4,5,6,True,1}\n",
    "\n",
    "s.pop()\n",
    "print(s)\n",
    "\n",
    "s.discard(99)\n",
    "print(s)\n",
    "\n",
    "s.remove(\"tommy\")\n",
    "print(s)"
   ]
  },
  {
   "cell_type": "code",
   "execution_count": 6,
   "metadata": {},
   "outputs": [
    {
     "name": "stdout",
     "output_type": "stream",
     "text": [
      "{1, 2, 3, 13, 14, 15}\n",
      "{1, 2, 3, 13, 14, 15}\n",
      "{1, 2, 14}\n",
      "{1, 2, 14}\n",
      "{3}\n",
      "{3, 13, 15}\n"
     ]
    }
   ],
   "source": [
    "a={1,2,3,14}\n",
    "b={1,2,13,14,15}\n",
    "\n",
    "print(a.union(b))\n",
    "print(a|b)\n",
    "print(a.intersection(b))\n",
    "print(a&b)\n",
    "print(a.difference(b))\n",
    "\n",
    "print(a.symmetric_difference(b)) #Union-Intersection"
   ]
  },
  {
   "cell_type": "code",
   "execution_count": 15,
   "metadata": {},
   "outputs": [
    {
     "name": "stdout",
     "output_type": "stream",
     "text": [
      "[1, 2, 4, 3, 2, 7, 88, 88]\n",
      "[]\n"
     ]
    }
   ],
   "source": [
    "list = (1,2,4,3,2,7,88,88)\n",
    "duplicate=[]\n",
    "output=[]\n",
    "\n",
    "\n",
    "for x in list:\n",
    "    if x in list:\n",
    "        duplicate.append(x)\n",
    "    else:\n",
    "        output.add(x)\n",
    "\n",
    "print(duplicate)\n",
    "print(output)"
   ]
  },
  {
   "cell_type": "code",
   "execution_count": 23,
   "metadata": {},
   "outputs": [
    {
     "name": "stdout",
     "output_type": "stream",
     "text": [
      "{88, 2}\n",
      "[1, 2, 4, 3, 7, 88]\n"
     ]
    }
   ],
   "source": [
    "list = [1,2,4,3,2,7,88,88]\n",
    "\n",
    "duplicate = set([x for x in list if list.count(x) > 1])\n",
    "print(duplicate)\n",
    "\n",
    "unique = []\n",
    "[unique.append(i) for i in list if i not in unique]\n",
    "print(unique)"
   ]
  },
  {
   "cell_type": "code",
   "execution_count": 5,
   "metadata": {},
   "outputs": [
    {
     "name": "stdout",
     "output_type": "stream",
     "text": [
      "-2\n"
     ]
    }
   ],
   "source": [
    "ops = ['+', '-', '*', '/', '%']\n",
    "\n",
    "n1,n2,n3 = map(str,input().split())\n",
    "if((n1.isdigit()) and (n2 in ops) and (n3.isdigit())):\n",
    "    if(n2 == '+'):\n",
    "        print(int(n1)+int(n3))\n",
    "    elif(n2 == '-'):\n",
    "        print(int(n1)-int(n3))\n",
    "    elif(n2 == '/'):\n",
    "        print(int(n1)/int(n3))\n",
    "    elif(n2 == '*'):\n",
    "        print(int(n1)*int(n3))\n",
    "else:\n",
    "    print(\"Invalid Input\")"
   ]
  },
  {
   "cell_type": "code",
   "execution_count": 11,
   "metadata": {},
   "outputs": [
    {
     "name": "stdout",
     "output_type": "stream",
     "text": [
      "{'id': '1001', 'name': 'Jerry', 'avgsem1': 40.4, 'avgsem2': 76.0, 'avgsem3': 65.6}\n"
     ]
    }
   ],
   "source": [
    "sem1 = [24,38,7,53,80]\n",
    "sem2 = [56,78,89,90,67]\n",
    "sem3 = [24,57,68,89,90]\n",
    "person = [\"1001\",\"Jerry\"]\n",
    "\n",
    "details = {}\n",
    "\n",
    "details[\"id\"]=person[0]\n",
    "details[\"name\"]=person[1]\n",
    "details[\"avgsem1\"]=sum(sem1)/len(sem1)\n",
    "details[\"avgsem2\"]=sum(sem2)/len(sem2)\n",
    "details[\"avgsem3\"]=sum(sem3)/len(sem3)\n",
    "\n",
    "print(details)"
   ]
  },
  {
   "cell_type": "code",
   "execution_count": null,
   "metadata": {},
   "outputs": [],
   "source": []
  }
 ],
 "metadata": {
  "kernelspec": {
   "display_name": "Python 3.10.6 64-bit",
   "language": "python",
   "name": "python3"
  },
  "language_info": {
   "codemirror_mode": {
    "name": "ipython",
    "version": 3
   },
   "file_extension": ".py",
   "mimetype": "text/x-python",
   "name": "python",
   "nbconvert_exporter": "python",
   "pygments_lexer": "ipython3",
   "version": "3.10.6"
  },
  "orig_nbformat": 4,
  "vscode": {
   "interpreter": {
    "hash": "3196968d684371006099b3d55edeef8ed90365227a30deaef86e5d4aa8519be0"
   }
  }
 },
 "nbformat": 4,
 "nbformat_minor": 2
}
