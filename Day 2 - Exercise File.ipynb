{
 "cells": [
  {
   "cell_type": "code",
   "execution_count": 2,
   "metadata": {},
   "outputs": [
    {
     "name": "stdout",
     "output_type": "stream",
     "text": [
      "['cleveland', 'europe', 'sydney', 'morocco']\n",
      "['australiA', 'america', 'india']\n"
     ]
    }
   ],
   "source": [
    "#1Q\n",
    "\n",
    "locations = ['australiA', 'cleveland', 'america', 'europe', 'sydney', 'morocco', 'india']\n",
    "pop_list = []\n",
    "\n",
    "for i in locations:\n",
    "    if(i.startswith('a') or i.startswith('A') or i.endswith('A') or i.endswith('a')):\n",
    "        pop_list.append(i)\n",
    "        locations.pop(locations.index(i))\n",
    "\n",
    "print(locations)\n",
    "print(pop_list)"
   ]
  },
  {
   "cell_type": "code",
   "execution_count": 4,
   "metadata": {},
   "outputs": [
    {
     "name": "stdout",
     "output_type": "stream",
     "text": [
      "7447\n",
      "7437\n",
      "Wrong, Try Again\n",
      "7447\n",
      "Wrong, Try Again\n"
     ]
    },
    {
     "ename": "KeyboardInterrupt",
     "evalue": "Interrupted by user",
     "output_type": "error",
     "traceback": [
      "\u001b[1;31m---------------------------------------------------------------------------\u001b[0m",
      "\u001b[1;31mKeyboardInterrupt\u001b[0m                         Traceback (most recent call last)",
      "\u001b[1;32m~\\AppData\\Local\\Temp/ipykernel_11316/1064528456.py\u001b[0m in \u001b[0;36m<module>\u001b[1;34m\u001b[0m\n\u001b[0;32m     11\u001b[0m \u001b[1;33m\u001b[0m\u001b[0m\n\u001b[0;32m     12\u001b[0m \u001b[1;32mwhile\u001b[0m \u001b[1;33m(\u001b[0m\u001b[1;32mTrue\u001b[0m\u001b[1;33m)\u001b[0m\u001b[1;33m:\u001b[0m\u001b[1;33m\u001b[0m\u001b[1;33m\u001b[0m\u001b[0m\n\u001b[1;32m---> 13\u001b[1;33m     \u001b[0minp\u001b[0m\u001b[1;33m=\u001b[0m\u001b[0mint\u001b[0m\u001b[1;33m(\u001b[0m\u001b[0minput\u001b[0m\u001b[1;33m(\u001b[0m\u001b[1;33m)\u001b[0m\u001b[1;33m)\u001b[0m\u001b[1;33m\u001b[0m\u001b[1;33m\u001b[0m\u001b[0m\n\u001b[0m\u001b[0;32m     14\u001b[0m     \u001b[1;32mif\u001b[0m\u001b[1;33m(\u001b[0m\u001b[0minp\u001b[0m\u001b[1;33m==\u001b[0m\u001b[0motp\u001b[0m\u001b[1;33m)\u001b[0m\u001b[1;33m:\u001b[0m\u001b[1;33m\u001b[0m\u001b[1;33m\u001b[0m\u001b[0m\n\u001b[0;32m     15\u001b[0m         \u001b[0mprint\u001b[0m\u001b[1;33m(\u001b[0m\u001b[1;34m\"Accepted\"\u001b[0m\u001b[1;33m)\u001b[0m\u001b[1;33m\u001b[0m\u001b[1;33m\u001b[0m\u001b[0m\n",
      "\u001b[1;32m~\\anaconda3\\lib\\site-packages\\ipykernel\\kernelbase.py\u001b[0m in \u001b[0;36mraw_input\u001b[1;34m(self, prompt)\u001b[0m\n\u001b[0;32m   1004\u001b[0m                 \u001b[1;34m\"raw_input was called, but this frontend does not support input requests.\"\u001b[0m\u001b[1;33m\u001b[0m\u001b[1;33m\u001b[0m\u001b[0m\n\u001b[0;32m   1005\u001b[0m             )\n\u001b[1;32m-> 1006\u001b[1;33m         return self._input_request(\n\u001b[0m\u001b[0;32m   1007\u001b[0m             \u001b[0mstr\u001b[0m\u001b[1;33m(\u001b[0m\u001b[0mprompt\u001b[0m\u001b[1;33m)\u001b[0m\u001b[1;33m,\u001b[0m\u001b[1;33m\u001b[0m\u001b[1;33m\u001b[0m\u001b[0m\n\u001b[0;32m   1008\u001b[0m             \u001b[0mself\u001b[0m\u001b[1;33m.\u001b[0m\u001b[0m_parent_ident\u001b[0m\u001b[1;33m[\u001b[0m\u001b[1;34m\"shell\"\u001b[0m\u001b[1;33m]\u001b[0m\u001b[1;33m,\u001b[0m\u001b[1;33m\u001b[0m\u001b[1;33m\u001b[0m\u001b[0m\n",
      "\u001b[1;32m~\\anaconda3\\lib\\site-packages\\ipykernel\\kernelbase.py\u001b[0m in \u001b[0;36m_input_request\u001b[1;34m(self, prompt, ident, parent, password)\u001b[0m\n\u001b[0;32m   1049\u001b[0m             \u001b[1;32mexcept\u001b[0m \u001b[0mKeyboardInterrupt\u001b[0m\u001b[1;33m:\u001b[0m\u001b[1;33m\u001b[0m\u001b[1;33m\u001b[0m\u001b[0m\n\u001b[0;32m   1050\u001b[0m                 \u001b[1;31m# re-raise KeyboardInterrupt, to truncate traceback\u001b[0m\u001b[1;33m\u001b[0m\u001b[1;33m\u001b[0m\u001b[0m\n\u001b[1;32m-> 1051\u001b[1;33m                 \u001b[1;32mraise\u001b[0m \u001b[0mKeyboardInterrupt\u001b[0m\u001b[1;33m(\u001b[0m\u001b[1;34m\"Interrupted by user\"\u001b[0m\u001b[1;33m)\u001b[0m \u001b[1;32mfrom\u001b[0m \u001b[1;32mNone\u001b[0m\u001b[1;33m\u001b[0m\u001b[1;33m\u001b[0m\u001b[0m\n\u001b[0m\u001b[0;32m   1052\u001b[0m             \u001b[1;32mexcept\u001b[0m \u001b[0mException\u001b[0m\u001b[1;33m:\u001b[0m\u001b[1;33m\u001b[0m\u001b[1;33m\u001b[0m\u001b[0m\n\u001b[0;32m   1053\u001b[0m                 \u001b[0mself\u001b[0m\u001b[1;33m.\u001b[0m\u001b[0mlog\u001b[0m\u001b[1;33m.\u001b[0m\u001b[0mwarning\u001b[0m\u001b[1;33m(\u001b[0m\u001b[1;34m\"Invalid Message:\"\u001b[0m\u001b[1;33m,\u001b[0m \u001b[0mexc_info\u001b[0m\u001b[1;33m=\u001b[0m\u001b[1;32mTrue\u001b[0m\u001b[1;33m)\u001b[0m\u001b[1;33m\u001b[0m\u001b[1;33m\u001b[0m\u001b[0m\n",
      "\u001b[1;31mKeyboardInterrupt\u001b[0m: Interrupted by user"
     ]
    }
   ],
   "source": [
    "#2Q\n",
    "\n",
    "import random as r\n",
    "\n",
    "def otpgen():\n",
    "    otp=\"\"\n",
    "    for i in range(4):\n",
    "        otp+=str(r.randint(1,9))\n",
    "    print (otp)\n",
    "otpgen()\n",
    "\n",
    "while (True):\n",
    "    inp=int(input())\n",
    "    if(inp==otp):\n",
    "        print(\"Accepted\")\n",
    "        break\n",
    "    else:\n",
    "        print(\"Wrong, Try Again\")\n",
    "        continue"
   ]
  },
  {
   "cell_type": "code",
   "execution_count": 6,
   "metadata": {},
   "outputs": [
    {
     "name": "stdout",
     "output_type": "stream",
     "text": [
      "2 - 4\n",
      "-2\n"
     ]
    }
   ],
   "source": [
    "#3Q\n",
    "\n",
    "ops = ['+', '-', '*', '/', '%']\n",
    "\n",
    "n1,n2,n3 = map(str,input().split())\n",
    "if((n1.isdigit()) and (n2 in ops) and (n3.isdigit())):\n",
    "    if(n2 == '+'):\n",
    "        print(int(n1)+int(n3))\n",
    "    elif(n2 == '-'):\n",
    "        print(int(n1)-int(n3))\n",
    "    elif(n2 == '/'):\n",
    "        print(int(n1)/int(n3))\n",
    "    elif(n2 == '*'):\n",
    "        print(int(n1)*int(n3))\n",
    "else:\n",
    "    print(\"Invalid Input\")"
   ]
  },
  {
   "cell_type": "code",
   "execution_count": 11,
   "metadata": {},
   "outputs": [
    {
     "name": "stdout",
     "output_type": "stream",
     "text": [
      "[54, 95, 39, 98, 68, 70, 20, 89, 31, 63, 76, 12, 43, 61, 75, 71, 48, 85, 38, 58]\n",
      "Even Numbers [54, 98, 68, 70, 20, 76, 12, 48, 38, 58]\n",
      "Odd Numbers [95, 39, 89, 31, 63, 43, 61, 75, 71, 85]\n",
      "{95: 54, 39: 98, 89: 68, 31: 70, 63: 20, 43: 76, 61: 12, 75: 48, 71: 38, 85: 58}\n"
     ]
    }
   ],
   "source": [
    "#4Q\n",
    "\n",
    "import random\n",
    "\n",
    "numbers = random.sample(range(10,100),20)\n",
    "print(numbers)\n",
    "\n",
    "odd = [i for i in numbers if i%2!=0]\n",
    "even = [i for i in numbers if i%2==0]\n",
    "\n",
    "print(\"Even Numbers\",even)\n",
    "print(\"Odd Numbers\",odd)\n",
    "\n",
    "sol = {}\n",
    "for i,j in zip(odd,even):\n",
    "    sol[i]=j\n",
    "print(sol)"
   ]
  },
  {
   "cell_type": "code",
   "execution_count": 12,
   "metadata": {},
   "outputs": [
    {
     "name": "stdout",
     "output_type": "stream",
     "text": [
      "First and last Prime Number from 1000 to 9999: [1001, 9997]\n"
     ]
    }
   ],
   "source": [
    "#5Q\n",
    "\n",
    "from typing import final\n",
    "\n",
    "\n",
    "def isPrime(n):\n",
    "    if(n==1 or n==0):\n",
    "        return False\n",
    "\n",
    "    for i in range(2,n):\n",
    "        if(n%i==0):\n",
    "            return False\n",
    "        return True\n",
    "\n",
    "N=9999\n",
    "\n",
    "output=[]\n",
    "for i in range(1000, N):\n",
    "    if(isPrime(i)):\n",
    "        output.append(i)\n",
    "\n",
    "final = [output[0], output[-1]]\n",
    "print(\"First and last Prime Number from 1000 to 9999:\", final)"
   ]
  },
  {
   "cell_type": "code",
   "execution_count": 14,
   "metadata": {},
   "outputs": [
    {
     "name": "stdout",
     "output_type": "stream",
     "text": [
      "Even:  [20, 22, 24, 26, 28, 30, 32, 34, 36, 38]\n",
      "Odd:  [21, 23, 25, 27, 29, 31, 33, 35, 37, 39]\n",
      "Average of Even:  {29.0}\n",
      "Average of Odd:  {30.0}\n"
     ]
    }
   ],
   "source": [
    "#6Q\n",
    "\n",
    "numbers = [i for i in range(20,40)]\n",
    "\n",
    "odd = [i for i in numbers if i%2!=0]\n",
    "even = [i for i in numbers if i%2==0]\n",
    "\n",
    "print(\"Even: \",even)\n",
    "print(\"Odd: \",odd)\n",
    "\n",
    "print(\"Average of Even: \", {sum(even)/len(even)})\n",
    "print(\"Average of Odd: \", {sum(odd)/len(odd)})"
   ]
  },
  {
   "cell_type": "code",
   "execution_count": 15,
   "metadata": {},
   "outputs": [],
   "source": [
    "#7Q\n",
    "\n",
    "import random"
   ]
  },
  {
   "cell_type": "code",
   "execution_count": 16,
   "metadata": {},
   "outputs": [
    {
     "ename": "SyntaxError",
     "evalue": "'return' outside function (Temp/ipykernel_11316/1650584917.py, line 8)",
     "output_type": "error",
     "traceback": [
      "\u001b[1;36m  File \u001b[1;32m\"C:\\Users\\Dell\\AppData\\Local\\Temp/ipykernel_11316/1650584917.py\"\u001b[1;36m, line \u001b[1;32m8\u001b[0m\n\u001b[1;33m    return math.floor(n*multiplier)/muliplier\u001b[0m\n\u001b[1;37m    ^\u001b[0m\n\u001b[1;31mSyntaxError\u001b[0m\u001b[1;31m:\u001b[0m 'return' outside function\n"
     ]
    }
   ],
   "source": [
    "#8Q\n",
    "\n",
    "\n",
    "import math\n",
    "\n",
    "def round_down(n, decimals=0):\n",
    "    multiplier = 10**decimals\n",
    "return math.floor(n*multiplier)/muliplier\n",
    "\n",
    "def round_up(n, decimals=0):\n",
    "    multiplier = 10**decimals\n",
    "return math.ceil(n*multiplier+0.5)/multiplier\n"
   ]
  },
  {
   "cell_type": "code",
   "execution_count": null,
   "metadata": {},
   "outputs": [],
   "source": []
  }
 ],
 "metadata": {
  "kernelspec": {
   "display_name": "Python 3.10.0 64-bit",
   "language": "python",
   "name": "python3"
  },
  "language_info": {
   "codemirror_mode": {
    "name": "ipython",
    "version": 3
   },
   "file_extension": ".py",
   "mimetype": "text/x-python",
   "name": "python",
   "nbconvert_exporter": "python",
   "pygments_lexer": "ipython3",
   "version": "3.10.0"
  },
  "vscode": {
   "interpreter": {
    "hash": "76d7c06053c3456e5600312cec90888656fc0ed30c03d8425b9dac6e4fc8e014"
   }
  }
 },
 "nbformat": 4,
 "nbformat_minor": 2
}
