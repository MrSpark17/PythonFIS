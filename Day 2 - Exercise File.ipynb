{
 "cells": [
  {
   "cell_type": "code",
   "execution_count": 1,
   "metadata": {},
   "outputs": [
    {
     "name": "stdout",
     "output_type": "stream",
     "text": [
      "['cleveland', 'europe', 'sydney', 'morocco']\n",
      "['australiA', 'america', 'india']\n"
     ]
    }
   ],
   "source": [
    "#1Q\n",
    "\n",
    "locations = ['australiA', 'cleveland', 'america', 'europe', 'sydney', 'morocco', 'india']\n",
    "pop_list = []\n",
    "\n",
    "for i in locations:\n",
    "    if(i.startswith('a') or i.startswith('A') or i.endswith('A') or i.endswith('a')):\n",
    "        pop_list.append(i)\n",
    "        locations.pop(locations.index(i))\n",
    "\n",
    "print(locations)\n",
    "print(pop_list)"
   ]
  },
  {
   "cell_type": "code",
   "execution_count": null,
   "metadata": {},
   "outputs": [],
   "source": [
    "#2Q\n",
    "\n",
    "import random as r\n",
    "otp=\"\"\n",
    "\n",
    "for i in range(4):\n",
    "    otp+=str(r.randint(1,9))\n",
    "print(otp)\n",
    "\n",
    "while (True):\n",
    "    inp=int(input())\n",
    "    if(inp==otp):\n",
    "        print(\"Accepted\")\n",
    "        break\n",
    "    else:\n",
    "        print(\"Wrong, Try Again\")\n",
    "        continue"
   ]
  },
  {
   "cell_type": "code",
   "execution_count": null,
   "metadata": {},
   "outputs": [],
   "source": [
    "#3Q\n",
    "\n",
    "ops = ['+', '-', '*', '/', '%']\n",
    "\n",
    "n1,n2,n3 = map(str,input().split())\n",
    "if((n1.isdigit()) and (n2 in ops) and (n3.isdigit())):\n",
    "    if(n2 == '+'):\n",
    "        print(int(n1)+int(n3))\n",
    "    elif(n2 == '-'):\n",
    "        print(int(n1)-int(n3))\n",
    "    elif(n2 == '/'):\n",
    "        print(int(n1)/int(n3))\n",
    "    elif(n2 == '*'):\n",
    "        print(int(n1)*int(n3))\n",
    "else:\n",
    "    print(\"Invalid Input\")"
   ]
  },
  {
   "cell_type": "code",
   "execution_count": null,
   "metadata": {},
   "outputs": [],
   "source": [
    "#4Q\n",
    "\n",
    "import random\n",
    "\n",
    "numbers = random.sample(range(10,100),20)\n",
    "print(numbers)\n",
    "\n",
    "odd = [i for i in numbers if i%2!=0]\n",
    "even = [i for i in numbers if i%2==0]\n",
    "\n",
    "print(\"Even Numbers\" {even}, \"Odd Numbers\" {odd})\n",
    "\n",
    "sol = {}\n",
    "for i,j in zip(odd,even):\n",
    "    sol[i]=j\n",
    "print(sol)"
   ]
  },
  {
   "cell_type": "code",
   "execution_count": null,
   "metadata": {},
   "outputs": [],
   "source": [
    "#5Q\n",
    "\n",
    "from typing import final\n",
    "\n",
    "\n",
    "def isPrime(n):\n",
    "    if(n==1 or n==0):\n",
    "        return False\n",
    "\n",
    "    for i in range(2,n):\n",
    "        if(n%i==0):\n",
    "            return False\n",
    "        return True\n",
    "\n",
    "N=9999\n",
    "\n",
    "output=[]\n",
    "for i in range(1000, N):\n",
    "    if(isPrime(i)):\n",
    "        output.append(i)\n",
    "\n",
    "final = [output[0], output[-1]]\n",
    "print(\"First and last Prime Number from 1000 to 9999:\", final)"
   ]
  },
  {
   "cell_type": "code",
   "execution_count": null,
   "metadata": {},
   "outputs": [],
   "source": [
    "#6Q\n",
    "\n",
    "numbers = [i for i in range(20,40)]\n",
    "\n",
    "odd = [i for i in numbers if i%2!=0]\n",
    "even = [i for i in numbers if i%2==0]\n",
    "\n",
    "print(\"Even: \",even)\n",
    "print(\"Odd: \",odd)\n",
    "\n",
    "print(\"Average of Even: \", {sum(even)/len(even)})\n",
    "print(\"Average of Odd: \", {seum(odd)/len(odd)})"
   ]
  },
  {
   "cell_type": "code",
   "execution_count": null,
   "metadata": {},
   "outputs": [],
   "source": [
    "#7Q\n",
    "\n",
    "import random"
   ]
  },
  {
   "cell_type": "code",
   "execution_count": 2,
   "metadata": {},
   "outputs": [],
   "source": [
    "#8Q\n",
    "\n",
    "\n",
    "import math\n",
    "\n",
    "def round_down(n, decimals=0):\n",
    "    multiplier = 10**decimals\n",
    "    return math.floor(n*multiplier)/multiplier\n",
    "\n",
    "def round_up(n, decimals=0):\n",
    "    multiplier = 10**decimals\n",
    "    return math.ceil(n*multiplier+0.5)/multiplier\n",
    "\n",
    "\n"
   ]
  },
  {
   "cell_type": "code",
   "execution_count": 3,
   "metadata": {},
   "outputs": [
    {
     "name": "stdout",
     "output_type": "stream",
     "text": [
      "User Input 3\n",
      "output: D\n"
     ]
    }
   ],
   "source": [
    "#9Q\n",
    "\n",
    "alpha = {i:j for (i,j) in zip([0,1,2,3,4,5,6,7,8,9],['A','B','C','D','E','F','G','H','I','J'])}\n",
    "\n",
    "input = input(\"Enter a number: \")\n",
    "print(f'User Input {input}')\n",
    "\n",
    "sol=''\n",
    "\n",
    "for i in input:\n",
    "    sol+=alpha[int(i)]\n",
    "print(f'output: {sol}')"
   ]
  },
  {
   "cell_type": "code",
   "execution_count": 6,
   "metadata": {},
   "outputs": [
    {
     "ename": "TypeError",
     "evalue": "'str' object is not callable",
     "output_type": "error",
     "traceback": [
      "\u001b[1;31m---------------------------------------------------------------------------\u001b[0m",
      "\u001b[1;31mTypeError\u001b[0m                                 Traceback (most recent call last)",
      "Cell \u001b[1;32mIn [6], line 3\u001b[0m\n\u001b[0;32m      1\u001b[0m \u001b[38;5;66;03m#10Q\u001b[39;00m\n\u001b[1;32m----> 3\u001b[0m userInput \u001b[38;5;241m=\u001b[39m \u001b[38;5;28;43minput\u001b[39;49m\u001b[43m(\u001b[49m\u001b[38;5;124;43m\"\u001b[39;49m\u001b[38;5;124;43mEnter the string to get the accurances: \u001b[39;49m\u001b[38;5;124;43m\"\u001b[39;49m\u001b[43m)\u001b[49m\n\u001b[0;32m      4\u001b[0m accurancesDict \u001b[38;5;241m=\u001b[39m {i:userInput\u001b[38;5;241m.\u001b[39mcount(i) \u001b[38;5;28;01mfor\u001b[39;00m i \u001b[38;5;129;01min\u001b[39;00m userInput}\n\u001b[0;32m      5\u001b[0m \u001b[38;5;28mprint\u001b[39m(accurancesDict)\n",
      "\u001b[1;31mTypeError\u001b[0m: 'str' object is not callable"
     ]
    }
   ],
   "source": [
    "#10Q\n",
    "\n",
    "userInput = input(\"Enter the string to get the accurances: \")\n",
    "accurancesDict = {i:userInput.count(i) for i in userInput}\n",
    "print(accurancesDict)"
   ]
  },
  {
   "cell_type": "code",
   "execution_count": null,
   "metadata": {},
   "outputs": [],
   "source": []
  }
 ],
 "metadata": {
  "kernelspec": {
   "display_name": "Python 3.10.6 64-bit",
   "language": "python",
   "name": "python3"
  },
  "language_info": {
   "codemirror_mode": {
    "name": "ipython",
    "version": 3
   },
   "file_extension": ".py",
   "mimetype": "text/x-python",
   "name": "python",
   "nbconvert_exporter": "python",
   "pygments_lexer": "ipython3",
   "version": "3.10.6"
  },
  "orig_nbformat": 4,
  "vscode": {
   "interpreter": {
    "hash": "3196968d684371006099b3d55edeef8ed90365227a30deaef86e5d4aa8519be0"
   }
  }
 },
 "nbformat": 4,
 "nbformat_minor": 2
}
