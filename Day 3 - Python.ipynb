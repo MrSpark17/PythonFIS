{
 "cells": [
  {
   "cell_type": "code",
   "execution_count": 1,
   "metadata": {},
   "outputs": [
    {
     "ename": "AssertionError",
     "evalue": "Not Numeric Data",
     "output_type": "error",
     "traceback": [
      "\u001b[1;31m---------------------------------------------------------------------------\u001b[0m",
      "\u001b[1;31mAssertionError\u001b[0m                            Traceback (most recent call last)",
      "Cell \u001b[1;32mIn [1], line 5\u001b[0m\n\u001b[0;32m      2\u001b[0m \u001b[38;5;28msum\u001b[39m \u001b[38;5;241m=\u001b[39m \u001b[38;5;241m0\u001b[39m\n\u001b[0;32m      4\u001b[0m \u001b[38;5;28;01mfor\u001b[39;00m x \u001b[38;5;129;01min\u001b[39;00m list1:\n\u001b[1;32m----> 5\u001b[0m     \u001b[38;5;28;01massert\u001b[39;00m \u001b[38;5;28mstr\u001b[39m(x)\u001b[38;5;241m.\u001b[39misnumeric(), \u001b[38;5;124m\"\u001b[39m\u001b[38;5;124mNot Numeric Data\u001b[39m\u001b[38;5;124m\"\u001b[39m\n\u001b[0;32m      6\u001b[0m     \u001b[38;5;28msum\u001b[39m\u001b[38;5;241m+\u001b[39m\u001b[38;5;241m=\u001b[39mx\n\u001b[0;32m      7\u001b[0m \u001b[38;5;28;01melse\u001b[39;00m:\n",
      "\u001b[1;31mAssertionError\u001b[0m: Not Numeric Data"
     ]
    }
   ],
   "source": [
    "list1 = [10,20,11,\"A\",40,50]\n",
    "sum = 0\n",
    "\n",
    "for x in list1:\n",
    "    assert str(x).isnumeric(), \"Not Numeric Data\"\n",
    "    sum+=x\n",
    "else:\n",
    "    print(\"The Sum is: \", sum)"
   ]
  },
  {
   "cell_type": "code",
   "execution_count": 2,
   "metadata": {},
   "outputs": [
    {
     "name": "stdout",
     "output_type": "stream",
     "text": [
      "You cannot divide by Zero\n",
      "I handled it\n"
     ]
    }
   ],
   "source": [
    "#ExceptError\n",
    "\n",
    "try:\n",
    "    print(1/0)\n",
    "except ZeroDivisionError:\n",
    "    print(\"You cannot divide by Zero\")\n",
    "\n",
    "print(\"I handled it\")"
   ]
  },
  {
   "cell_type": "code",
   "execution_count": 8,
   "metadata": {},
   "outputs": [
    {
     "name": "stdout",
     "output_type": "stream",
     "text": [
      "Don't divide by Zero\n",
      "0\n"
     ]
    },
    {
     "ename": "ZeroDivisionError",
     "evalue": "division by zero",
     "output_type": "error",
     "traceback": [
      "\u001b[1;31m---------------------------------------------------------------------------\u001b[0m",
      "\u001b[1;31mZeroDivisionError\u001b[0m                         Traceback (most recent call last)",
      "Cell \u001b[1;32mIn [8], line 13\u001b[0m\n\u001b[0;32m     10\u001b[0m \u001b[38;5;28;01mfinally\u001b[39;00m:\n\u001b[0;32m     11\u001b[0m     \u001b[38;5;28mprint\u001b[39m(a)\n\u001b[1;32m---> 13\u001b[0m b\u001b[38;5;241m=\u001b[39m\u001b[38;5;241;43m10\u001b[39;49m\u001b[38;5;241;43m/\u001b[39;49m\u001b[38;5;241;43m0\u001b[39;49m\n\u001b[0;32m     14\u001b[0m \u001b[38;5;28mprint\u001b[39m(b)\n\u001b[0;32m     15\u001b[0m \u001b[38;5;28mprint\u001b[39m(\u001b[38;5;124m'\u001b[39m\u001b[38;5;124mHello\u001b[39m\u001b[38;5;124m'\u001b[39m)\n",
      "\u001b[1;31mZeroDivisionError\u001b[0m: division by zero"
     ]
    }
   ],
   "source": [
    "a=0\n",
    "try:\n",
    "    a=10/0\n",
    "except ZeroDivisionError:\n",
    "    print(\"Don't divide by Zero\")\n",
    "except NameError:\n",
    "    print(\" Check the name of methods or the variables\")\n",
    "except Exception as e:\n",
    "    print(e)\n",
    "finally:\n",
    "    print(a)\n",
    "\n",
    "b=10/0\n",
    "print(b)\n",
    "print('Hello')\n"
   ]
  },
  {
   "cell_type": "code",
   "execution_count": 15,
   "metadata": {},
   "outputs": [
    {
     "name": "stdout",
     "output_type": "stream",
     "text": [
      "<class 'TypeError'>\n",
      "<class 'TypeError'>\n",
      "[1, 4, 9, 81]\n",
      "['t', 'tommy']\n",
      "[TypeError(\"can't multiply sequence by non-int of type 'str'\"), TypeError(\"can't multiply sequence by non-int of type 'str'\")]\n"
     ]
    }
   ],
   "source": [
    "#ListSqaureWithException\n",
    "\n",
    "list1=[1,2,3,\"t\",9,\"tommy\"]\n",
    "\n",
    "list2=[]\n",
    "list3=[]\n",
    "list4=[]\n",
    "\n",
    "for i in list1:\n",
    "    try:\n",
    "        list2.append(i*i)\n",
    "    except Exception as e:\n",
    "        print(type(e))\n",
    "        list3.append(i)\n",
    "        list4.append(e)\n",
    "    finally:\n",
    "        continue\n",
    "    \n",
    "print(list2)\n",
    "print(list3)\n",
    "print(list4)"
   ]
  },
  {
   "cell_type": "code",
   "execution_count": 22,
   "metadata": {},
   "outputs": [
    {
     "name": "stdout",
     "output_type": "stream",
     "text": [
      "12\n",
      "34\n",
      "67\n",
      "89\n",
      "90\n",
      "Ghost\n",
      "80\n",
      "\n",
      "Done\n"
     ]
    }
   ],
   "source": [
    "#RaiseException\n",
    "\n",
    "list1 = [12,34,67,89,90,100,80]\n",
    "\n",
    "for x in list1:\n",
    "    try:\n",
    "        if x >= 100:\n",
    "            raise ValueError(x)\n",
    "            print(\"Age cannot be greater than 100\")\n",
    "        else:\n",
    "            print(x)\n",
    "    except ValueError:\n",
    "        print(\"Ghost\")\n",
    "print(\"\\nDone\")\n"
   ]
  },
  {
   "cell_type": "code",
   "execution_count": 25,
   "metadata": {},
   "outputs": [
    {
     "name": "stdout",
     "output_type": "stream",
     "text": [
      "2484874044592\n",
      "2484874044592\n",
      "Hi Tommy\n",
      "When did you come back from the function?  Jerry\n"
     ]
    }
   ],
   "source": [
    "def disp(a):\n",
    "    print(id(a))\n",
    "    print(\"Hi\",a)\n",
    "    a=\"Jerry\"\n",
    "    return(a)\n",
    "a=\"Tommy\"\n",
    "print(id(a))\n",
    "a = disp(a)\n",
    "print(\"When did you come back from the function? \",a)"
   ]
  },
  {
   "cell_type": "code",
   "execution_count": 34,
   "metadata": {},
   "outputs": [
    {
     "name": "stdout",
     "output_type": "stream",
     "text": [
      "2.5445026178010473\n"
     ]
    }
   ],
   "source": [
    "#EvaluatingTheExpression\n",
    "\n",
    "def add(a,b):\n",
    "    return(a+b)\n",
    "def sub(a,b):\n",
    "    return(a-b)\n",
    "def mul(a,b):\n",
    "    return(a*b)\n",
    "def div(a,b):\n",
    "    return a/b\n",
    "def sqr(a):\n",
    "    return(a**2)\n",
    "\n",
    "a=90\n",
    "b=10\n",
    "c=45\n",
    "\n",
    "#d = (a + (b*477)) / ((c**2) - (23*5))\n",
    "#print(d)\n",
    "\n",
    "e = div(add(a,mul(b,477)), sub(sqr(c),mul(23,5)))\n",
    "print(e)"
   ]
  },
  {
   "cell_type": "code",
   "execution_count": 35,
   "metadata": {},
   "outputs": [
    {
     "name": "stdout",
     "output_type": "stream",
     "text": [
      "Initial Stock of the items are:  {'apple': 20, 'orange': 10, 'pears': 5}\n",
      "Order is: {'apple': 3, 'pears': 6, 'orange': 7, 'pineapple': 2}\n",
      "Cost is: {'apple': 234, 'orange': 283.5, 'pears': 330}\n",
      "Total Bill: 847.5\n",
      "Remaining Cost: {'apple': 17, 'orange': 3, 'pears': -1}\n"
     ]
    }
   ],
   "source": [
    "#StockQuestion\n",
    "\n",
    "stock = {\"apple\":20, \"orange\":10, \"pears\":5}\n",
    "rates = {\"apple\":78, \"orange\":40.5, \"pears\":55, \"banana\":10}\n",
    "order = {\"apple\":3, \"pears\":6, \"orange\":7, \"pineapple\":2}\n",
    "\n",
    "print(\"Initial Stock of the items are: \",stock)\n",
    "cost={\"apple\": (order[\"apple\"]*rates[\"apple\"]), \"orange\": (order[\"orange\"]*rates[\"orange\"]), \"pears\": (order[\"pears\"]*rates[\"pears\"])}\n",
    "\n",
    "sum=0\n",
    "\n",
    "for x in cost.values():\n",
    "    sum+=x\n",
    "stock={\"apple\": (stock[\"apple\"]-order[\"apple\"]), \"orange\":(stock[\"orange\"]-order[\"orange\"]), \"pears\":(stock[\"pears\"]-order[\"pears\"])}\n",
    "\n",
    "print(\"Order is:\", order)\n",
    "print(\"Cost is:\", cost)\n",
    "print(\"Total Bill:\", sum)\n",
    "print(\"Remaining Cost:\", stock)"
   ]
  },
  {
   "cell_type": "code",
   "execution_count": null,
   "metadata": {},
   "outputs": [],
   "source": []
  }
 ],
 "metadata": {
  "kernelspec": {
   "display_name": "Python 3.10.6 64-bit",
   "language": "python",
   "name": "python3"
  },
  "language_info": {
   "codemirror_mode": {
    "name": "ipython",
    "version": 3
   },
   "file_extension": ".py",
   "mimetype": "text/x-python",
   "name": "python",
   "nbconvert_exporter": "python",
   "pygments_lexer": "ipython3",
   "version": "3.10.6"
  },
  "orig_nbformat": 4,
  "vscode": {
   "interpreter": {
    "hash": "3196968d684371006099b3d55edeef8ed90365227a30deaef86e5d4aa8519be0"
   }
  }
 },
 "nbformat": 4,
 "nbformat_minor": 2
}
