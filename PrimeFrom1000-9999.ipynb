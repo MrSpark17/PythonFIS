{
 "cells": [
  {
   "cell_type": "code",
   "execution_count": 6,
   "metadata": {},
   "outputs": [
    {
     "name": "stdout",
     "output_type": "stream",
     "text": [
      "First and last Prime Number from 1000 to 9999: [1001, 9997]\n"
     ]
    }
   ],
   "source": [
    "from typing import final\n",
    "\n",
    "\n",
    "def isPrime(n):\n",
    "    if(n==1 or n==0):\n",
    "        return False\n",
    "\n",
    "    for i in range(2,n):\n",
    "        if(n%i==0):\n",
    "            return False\n",
    "        return True\n",
    "\n",
    "N=9999\n",
    "\n",
    "output=[]\n",
    "for i in range(1000, N):\n",
    "    if(isPrime(i)):\n",
    "        output.append(i)\n",
    "\n",
    "final = [output[0], output[-1]]\n",
    "print(\"First and last Prime Number from 1000 to 9999:\", final)"
   ]
  },
  {
   "cell_type": "code",
   "execution_count": null,
   "metadata": {},
   "outputs": [],
   "source": []
  }
 ],
 "metadata": {
  "kernelspec": {
   "display_name": "Python 3.10.6 64-bit",
   "language": "python",
   "name": "python3"
  },
  "language_info": {
   "codemirror_mode": {
    "name": "ipython",
    "version": 3
   },
   "file_extension": ".py",
   "mimetype": "text/x-python",
   "name": "python",
   "nbconvert_exporter": "python",
   "pygments_lexer": "ipython3",
   "version": "3.10.6"
  },
  "orig_nbformat": 4,
  "vscode": {
   "interpreter": {
    "hash": "3196968d684371006099b3d55edeef8ed90365227a30deaef86e5d4aa8519be0"
   }
  }
 },
 "nbformat": 4,
 "nbformat_minor": 2
}
